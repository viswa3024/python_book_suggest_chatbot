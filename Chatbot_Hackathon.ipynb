{
  "nbformat": 4,
  "nbformat_minor": 0,
  "metadata": {
    "colab": {
      "provenance": []
    },
    "kernelspec": {
      "display_name": "Python 3",
      "language": "python",
      "name": "python3"
    },
    "language_info": {
      "codemirror_mode": {
        "name": "ipython",
        "version": 3
      },
      "file_extension": ".py",
      "mimetype": "text/x-python",
      "name": "python",
      "nbconvert_exporter": "python",
      "pygments_lexer": "ipython3",
      "version": "3.5.0"
    }
  },
  "cells": [
    {
      "cell_type": "markdown",
      "metadata": {
        "id": "sCfzqHTCh9la"
      },
      "source": [
        "# Advanced Certification in AIML\n",
        "## A Program by IIIT-H and TalentSprint"
      ]
    },
    {
      "cell_type": "markdown",
      "metadata": {
        "id": "ZWC6jnVaPn-a"
      },
      "source": [
        "## Problem Statement"
      ]
    },
    {
      "cell_type": "markdown",
      "metadata": {
        "id": "TUMw8NlY9UAc"
      },
      "source": [
        "Build a conversational bot to interact with the user using 2 approaches (Alexa Chatbot and Python Chatbot) for the given skill and achieve desired outcomes through the conversation."
      ]
    },
    {
      "cell_type": "markdown",
      "metadata": {
        "id": "YiQpi0NQjb6T"
      },
      "source": [
        "### It is recommended to watch the chatbot code explanation video before start working on the Hackathon"
      ]
    },
    {
      "cell_type": "code",
      "metadata": {
        "id": "0IfX7sjUjheb",
        "cellView": "form"
      },
      "source": [
        "#@title Chatbot Code Explanation Video\n",
        "from IPython.display import HTML\n",
        "\n",
        "HTML(\"\"\"<video width=\"854\" height=\"480\" controls>\n",
        "  <source src=\"https://cdn.iiith.talentsprint.com/aiml/Experiment_related_data/Walkthrough/b17_hackathon_1_chatbot_walkthrough.mp4\" type=\"video/mp4\">\n",
        "</video>\n",
        "\"\"\")"
      ],
      "execution_count": null,
      "outputs": []
    },
    {
      "cell_type": "markdown",
      "metadata": {
        "id": "kyAh93c0gHVy"
      },
      "source": [
        "## Skill to be developed as per the intents allocation\n",
        "\n",
        "**Zodiac Sign:** The bot should give the Zodiac Sign of the user, based on the date of birth (day, month and year) provided by the user **(This intent is common for everyone)**\n",
        "\n",
        "**Suggest a Movie:** The bot should suggest a movie based on user preferences: Language, Actor, Genre and other details\n",
        "\n",
        "**Find the Restaurant:**  Find the restaurants based on Cuisine, Cost type (cheap, medium, expensive), location and other parameters\n",
        "\n",
        "**Suggest a Book:** The bot should suggest the book based on user preferences: Author, language, genre and other parameters\n",
        "\n",
        "**Recommend a Store:** The bot should search a store based on preferences: Store type (medical clinics, food store, dry cleaning and more), location, availability (Open, Close) and other parameters\n",
        "\n",
        "Teams will be creating a conversational chatbot for the intents allocated to them\n",
        "\n",
        "> Team A =\tGroup\t\t1, 5, 9, 13, 17, 21  => Suggest a Movie & Zodiac Sign\n",
        "\n",
        "> Team B =  Group   2, 6, 10, 14, 18, 22 => Find a Restaurant & Zodiac Sign\n",
        "\n",
        "> Team C =  Group   3, 7, 11, 15, 19, 23  => Suggest a Book & Zodiac Sign\n",
        "\n",
        "> Team D =  Group   4, 8, 12, 16, 20, 24 =>  Recommend a Store & Zodiac Sign"
      ]
    },
    {
      "cell_type": "markdown",
      "metadata": {
        "id": "0cbdKF1E-0lt"
      },
      "source": [
        "* For Zodiac sign Intent, all the required utterances, slots and params (JSON) files are provided for your reference. A csv file is also provided to perform the action\n",
        "\n",
        "\n",
        "* For the another allocated intent, create all the required files (utterances, slots and params) and perform the action by creating a csv file."
      ]
    },
    {
      "cell_type": "markdown",
      "metadata": {
        "id": "BNQWDhx7GGNh"
      },
      "source": [
        "# Alexa Chatbot (Total Marks = 20)"
      ]
    },
    {
      "cell_type": "markdown",
      "metadata": {
        "id": "QZ43g3WCTAQv"
      },
      "source": [
        "**Note:**\n",
        "- Complete all of the tasks mentioned below from the [link](https://developer.amazon.com/alexa/console/ask) to work on the Alexa chatbot.\n",
        "- Go through the Pre-Hackathon for Alexa ChatBot material to understand Alexa Chatbot’s code and it's architecture.\n",
        "\n",
        "### **Criteria for evaluation**\n",
        "\n",
        "**Task1 (2Marks)** - Create a skill and provide intents based on team allocation\n",
        "- **Note:** You should create multiple intents under one skill, so that you can use that skill for testing\n",
        "\n",
        "**Task2 (4Marks)** - Create at least 50 utterances for each intent\n",
        "\n",
        "**Task3 (2Marks)** - Create at least 3 slots with the slot types for each intent\n",
        "- Hint: [Slot type references](https://developer.amazon.com/en-US/docs/alexa/custom-skills/slot-type-reference.html#list-slot-types)\n",
        "\n",
        "**Task4 (4Marks)** - Create a database with all possible combinations of all attributes (can be a CSV ﬁle) along with possible outcome for each combination. This database will be used for performing an action. Minimum 10 combinations\n",
        "  - Create a CSV file for the allocated intent other than Zodiac sign\n",
        "\n",
        "**Task5 (4Marks)** - Update the lambda_function.py and requirements.txt in the Code section - Refer PRE-HACKATHON Alexa ChatBot material\n",
        "\n",
        "\n",
        "**Task6 (4Marks)** - Run and test the Alexa chatbot for both the intents with the following:\n",
        "  - Alexa Chatbot should identify the user requirement.\n",
        "  - Gather the data from user input and get the relevant output.\n",
        "  - It should prompt the user with different prompts if the required input is not fulfilled.\n",
        "  - It should shift between the intents and maintain the dialogue flow.\n"
      ]
    },
    {
      "cell_type": "markdown",
      "metadata": {
        "id": "OQ5D6hR6hiTZ"
      },
      "source": [
        "# Python Chatbot (Total Marks = 20)"
      ]
    },
    {
      "cell_type": "markdown",
      "metadata": {
        "id": "KPBwZyi1hwuF"
      },
      "source": [
        "**Note:** Complete all of the tasks mentioned below in this colab notebook to work on the Python chatbot.\n",
        "\n",
        "### **Criteria for evaluation**\n",
        "\n",
        "**Task1 (6Marks)** - Create .dat files for your intent (as the .dat files of Zodiac intent is already provided) based on the team allocation. Also, configure file in the params folder (Refer the given zodiac sign file for more information).\n",
        "\n",
        "   * Give minimum 50 utterances for each intent. Give the details in the **intent folder** -> *intent_name.dat* file. (Hint: You can use the same utterances which was created for Alexa chatbot)\n",
        "\n",
        "   * Give minimum 3 slots for each intent. Create a different *.dat* file for each slot under the **Slots folder** (Hint: You can use the same slots which was created for Alexa chatbot)\n",
        "\n",
        "   * Conﬁgure *params.cfg* ﬁle for the skill given to you under the **params folder**. Setup the intents in the same file with its required elements like Parameters, actions, etc. Refer to Zodiac Sign files for more information.\n",
        "\n",
        "**Task2 (2Marks)** - Create a database for the intent with all possible combinations of all attributes (can be a CSV ﬁle) along with possible outcome for each combination. Minimum 10 combinations. (Hint: You can use the same database which was created for Alexa chatbot)\n",
        "\n",
        "  * Create a CSV file for the allocated intent other than Zodiac sign\n",
        "\n",
        "**Task3 (5Marks)** - Text Representation and Classifications for both the intents\n",
        "\n",
        "* Create a numerical representation of the text data (utterances) by using **any one** of the following process:\n",
        "\n",
        "  - [Countvectorizer](https://scikit-learn.org/stable/modules/generated/sklearn.feature_extraction.text.CountVectorizer.html)\n",
        "\n",
        "    OR\n",
        "\n",
        "  - [TFIDFVectorizer](https://scikit-learn.org/stable/modules/generated/sklearn.feature_extraction.text.TfidfVectorizer.html)\n",
        "\n",
        "* Perform a classification using the extracted features and classify the intent.\n",
        "\n",
        "**Task4 (4Marks)** - Compare the attributes with the CSV file and get the final selection of that particular intent.\n",
        "\n",
        "* Action function for the zodiac sign is already given. Similarly create action function for your intent and give the function name as mentioned in the params.cfg file.\n",
        "\n",
        "**Task5 (3Marks)** - Run and test the Python chatbot for both the intents with the following:\n",
        "  - Python Chatbot should identify the user requirement.\n",
        "  - Gather the data from user input and get the relevant output.\n",
        "  - It should prompt the user with different prompts if the required input is not fulfilled.\n",
        "  - It should shift between the intents and maintain the dialogue flow."
      ]
    },
    {
      "cell_type": "markdown",
      "metadata": {
        "id": "48cT_Ybr818p"
      },
      "source": [
        "### Below is the code for updating the Python Chatbot"
      ]
    },
    {
      "cell_type": "code",
      "metadata": {
        "id": "G3yu1dJGBnbe",
        "cellView": "form",
        "colab": {
          "base_uri": "https://localhost:8080/"
        },
        "outputId": "f5678d2f-d178-47fa-e9d8-2f5c62677be4"
      },
      "source": [
        "#@title Run this cell to download the data\n",
        "!wget -qq https://cdn.iiith.talentsprint.com/aiml/Hackathon_data/Chatbot_Hackathon.zip\n",
        "!unzip -qq Chatbot_Hackathon.zip\n",
        "print(\"Data downloaded successfully\")"
      ],
      "execution_count": 1,
      "outputs": [
        {
          "output_type": "stream",
          "name": "stdout",
          "text": [
            "Data downloaded successfully\n"
          ]
        }
      ]
    },
    {
      "cell_type": "code",
      "metadata": {
        "id": "tpZ-i7ndxPzU"
      },
      "source": [
        "# Import Libraries\n",
        "import json\n",
        "import random\n",
        "import os\n",
        "import re\n",
        "import datetime\n",
        "import pandas as pd\n",
        "import numpy as np\n",
        "from sklearn.feature_extraction.text import TfidfVectorizer\n",
        "from sklearn.feature_extraction.text import CountVectorizer\n",
        "\n",
        "# Importing context and .py script files\n",
        "from Context import *\n",
        "from Intent import *"
      ],
      "execution_count": 6,
      "outputs": []
    },
    {
      "cell_type": "markdown",
      "metadata": {
        "id": "lR6rVhnwDQVd"
      },
      "source": [
        "### Chatbot Architecture"
      ]
    },
    {
      "cell_type": "markdown",
      "metadata": {
        "id": "WSwQI3v0H6kR"
      },
      "source": [
        "Defining functions for Loading Intent, Collecting params, Checking actions, Getting Attributes and Identifying Intents"
      ]
    },
    {
      "cell_type": "code",
      "metadata": {
        "id": "v9CMK_7tdbac"
      },
      "source": [
        "def loadIntent(path, intent):\n",
        "    with open(path) as fil:\n",
        "        dat = json.load(fil)\n",
        "        intent = dat[intent]\n",
        "        return Intent(intent['intentname'],intent['Parameters'], intent['actions'])\n",
        "\n",
        "def check_required_params(current_intent, attributes, context):\n",
        "    '''Collects attributes pertaining to the current intent'''\n",
        "    for para in current_intent.params:\n",
        "        if para.required:\n",
        "            if para.name not in attributes:\n",
        "                return random.choice(para.prompts), context\n",
        "    return None, context\n",
        "\n",
        "def check_actions(current_intent, attributes, context):\n",
        "    '''This function performs the action for the intent as mentioned\n",
        "    in the intent config file. Performs actions pertaining to current intent '''\n",
        "    context = IntentComplete()\n",
        "    if current_intent.action.endswith('()'):\n",
        "        return eval(current_intent.action), context\n",
        "    return current_intent.action, context\n",
        "\n",
        "def getattributes(uinput,context,attributes, intent):\n",
        "    '''This function marks the slots in user input, and updates\n",
        "    the attributes dictionary'''\n",
        "    uinput = \" \"+uinput.lower()+\" \"\n",
        "    if context.name.startswith('IntentComplete'):\n",
        "        return attributes, uinput\n",
        "    else:\n",
        "        files = os.listdir(path_slots)\n",
        "        slots = {}\n",
        "        for fil in files:\n",
        "            if fil == \".ipynb_checkpoints\":\n",
        "                continue\n",
        "            lines = open(path_slots+fil).readlines()\n",
        "            for i, line in enumerate(lines):\n",
        "                line = line.strip()\n",
        "                if len(uinput.split(\" \"+line.lower()+\" \")) > 1:\n",
        "                    slots[line] = fil[:-4]\n",
        "        for value, slot in slots.items():\n",
        "            if intent != None and slot in \" \".join([param.name for param in intent.params]):\n",
        "                uinput = re.sub(value,r'$'+slot,uinput,flags=re.IGNORECASE)\n",
        "                attributes[slot] = value\n",
        "            else:\n",
        "                uinput = re.sub(value,r'$'+slot,uinput,flags=re.IGNORECASE)\n",
        "                attributes[slot] = value\n",
        "        return attributes, uinput\n",
        "\n",
        "def input_processor(user_input, context, attributes, intent):\n",
        "    '''Update the attributes, abstract over the slots in user input'''\n",
        "    attributes, cleaned_input = getattributes(user_input, context, attributes, intent)\n",
        "    return attributes, cleaned_input\n",
        "\n",
        "def intentIdentifier(clean_input, context,current_intent):\n",
        "    clean_input = clean_input.lower()\n",
        "    if (current_intent==None):\n",
        "        return loadIntent(path_param,intentPredict(clean_input))\n",
        "    else:\n",
        "        #If current intent is not none, stick with the ongoing intent\n",
        "        #return current_intent\n",
        "        intent = loadIntent(path_param,intentPredict(clean_input))\n",
        "        if current_intent != intent:\n",
        "            for para in current_intent.params:\n",
        "                if para.name in clean_input:\n",
        "                    return current_intent\n",
        "        return loadIntent(path_param,intentPredict(clean_input))"
      ],
      "execution_count": 7,
      "outputs": []
    },
    {
      "cell_type": "markdown",
      "metadata": {
        "id": "V9fHBxSLtsXJ"
      },
      "source": [
        "Session class is one active session of the chatbot which the user interacts with. Let's go into the details:\n",
        "\n",
        "**reply( )** is the important one in our session object it takes user_input as a parameter and calls different modules of the chatbot architecture:\n",
        "\n",
        "\n",
        "*   **input_processor( )** - It helps in preprocessing and fetching the slots that can identify in the ready state\n",
        "    \n",
        "    - **getattributes( )** - It helps in identifying all the slots in the user utterance. Identify and map them to the parameters\n",
        "    \n",
        "    \n",
        "*   **intentIdentifier( )**\n",
        "\n",
        "  -  **intentPredict()** - Task to complete\n",
        "\n",
        "*   **check_required_params( )** - Based on the current intents, it goes over it's parameters\n",
        "\n",
        "*   **check_actions( )** - This function performs the action for the intent\n",
        "\n",
        "**Note:** Refer the *Chatbot_Reading_Material.pdf* for more information on the conversation flow\n",
        "\n",
        "\n",
        "       \n"
      ]
    },
    {
      "cell_type": "code",
      "metadata": {
        "id": "x5ZB31PKE1zd"
      },
      "source": [
        "class Session:\n",
        "    def __init__(self, attributes=None, active_contexts=[FirstGreeting(), IntentComplete() ]):\n",
        "        '''Initialise a default session'''\n",
        "        # Active contexts not used yet, can use it to have multiple contexts\n",
        "        self.active_contexts = active_contexts\n",
        "\n",
        "        # Contexts are flags which control dialogue flow\n",
        "        self.context = FirstGreeting()\n",
        "\n",
        "        # Intent tracks the current state of dialogue\n",
        "        self.current_intent = None\n",
        "\n",
        "        # attributes hold the information collected over the conversation\n",
        "        self.attributes = {}\n",
        "\n",
        "    def reply(self, user_input):\n",
        "        '''Generate response to user input'''\n",
        "        self.attributes, clean_input = input_processor(user_input, self.context, self.attributes, self.current_intent)\n",
        "\n",
        "        self.current_intent = intentIdentifier(clean_input, self.context, self.current_intent)\n",
        "\n",
        "        prompt, self.context = check_required_params(self.current_intent, self.attributes, self.context)\n",
        "\n",
        "        # prompt being None means all parameters satisfied, perform the intent action\n",
        "        if prompt is None and self.context.name!='IntentComplete':\n",
        "            prompt, self.context = check_actions(self.current_intent, self.attributes, self.context)\n",
        "\n",
        "        return prompt, self.attributes"
      ],
      "execution_count": 8,
      "outputs": []
    },
    {
      "cell_type": "markdown",
      "metadata": {
        "id": "ztNFwTl_clJD"
      },
      "source": [
        "### Task1 (6Marks)\n",
        "\n",
        "Create .dat files for your intent based on the team allocation. Also, configure file in the params folder (Refer the given zodiac sign file for more information).\n",
        "\n",
        "   * Give minimum 50 utterances for each intent. You can use the same utterances which were created for Alexa chatbot. Give the details in the **intent folder** -> *intent_name.dat* file\n",
        "\n",
        "   * Give minimum 3 slots for each intent. You can use the same slots which were created for Alexa chatbot. Create a different *.dat* file for each slot under the **Slots folder**\n",
        "\n",
        "   * Conﬁgure *params.cfg* ﬁle for the skill given to you under the **params folder**. Setup the intents in the same file with its required elements like Parameters, actions, etc. Refer to Zodiac Sign file for more information.\n",
        "\n",
        "Once dat files are created, you can upload them in colab as path details given in the below code"
      ]
    },
    {
      "cell_type": "code",
      "metadata": {
        "id": "aM7DzOSxQTOh"
      },
      "source": [
        "path_param = 'Chatbot/params/params.cfg'\n",
        "path_utterances = 'Chatbot/utterances/'\n",
        "path_slots = 'Chatbot/slots/'"
      ],
      "execution_count": 9,
      "outputs": []
    },
    {
      "cell_type": "code",
      "source": [],
      "metadata": {
        "id": "_OyBmQndA_sW"
      },
      "execution_count": null,
      "outputs": []
    },
    {
      "cell_type": "markdown",
      "metadata": {
        "id": "qTLngIU1AWkO"
      },
      "source": [
        "### Task2 (2Marks)\n",
        "\n",
        "Create a database with all possible combinations of all attributes (can be a CSV ﬁle) along with possible outcome for each combination for your intent. Provide at least 10 combinations. (Hint: You can use the same database which was created for Alexa chatbot)\n",
        "\n",
        "  * Create a CSV file for the allocated intent other than Zodiac sign.\n",
        "\n",
        "Upload the file and give the path in the below code"
      ]
    },
    {
      "cell_type": "code",
      "metadata": {
        "id": "EyzMvRbPAil_"
      },
      "source": [
        "path_csv_zodiac = 'Chatbot/Zodiac_sign.csv'\n",
        "\n",
        "# YOUR CODE HERE for updating the path of csv file\n",
        "path_csv = 'Chatbot/books.csv'"
      ],
      "execution_count": 10,
      "outputs": []
    },
    {
      "cell_type": "markdown",
      "metadata": {
        "id": "pjQr5bPZ3j40"
      },
      "source": [
        "### Task3 (5Marks)\n",
        "Text Representation and Classifications for both the intents\n",
        "\n",
        "To classify the intents based on user input, model must be trained on all the utterances given.\n",
        "- Iterate through the files from folder of utterances which ends with `.dat` extension\n",
        "- Create an array of train data and labels with respective class names (intent names)\n",
        "- Create a vector representation of train data (utterances) by using **any one** of the following process for the task:\n",
        "\n",
        "  - [Countvectorizer](https://scikit-learn.org/stable/modules/generated/sklearn.feature_extraction.text.CountVectorizer.html)\n",
        "\n",
        "    OR\n",
        "\n",
        "  - [TFIDFVectorizer](https://scikit-learn.org/stable/modules/generated/sklearn.feature_extraction.text.TfidfVectorizer.html)\n",
        "\n",
        "- Perform a classification using the extracted features and classify the intent.\n",
        "    - ### **Expected Accuracy above 90%**\n",
        "\n",
        "- Predict the user_input using the trained model using intent_predict() method"
      ]
    },
    {
      "cell_type": "markdown",
      "metadata": {
        "id": "oiW8ZtRZExNV"
      },
      "source": [
        "**Data Loading:** Read all the utterances and extract the data (text) and labels for each intent."
      ]
    },
    {
      "cell_type": "code",
      "metadata": {
        "id": "Mq6rSmdnFzss"
      },
      "source": [
        "# YOUR CODE HERE for loading and preparing the data\n",
        "from sklearn.feature_extraction.text import CountVectorizer, TfidfVectorizer\n",
        "from sklearn.naive_bayes import MultinomialNB\n",
        "from sklearn.model_selection import train_test_split\n",
        "from sklearn.metrics import accuracy_score\n",
        "import os\n",
        "import json"
      ],
      "execution_count": 11,
      "outputs": []
    },
    {
      "cell_type": "code",
      "source": [
        "def load_utterances_from_files(folder_path):\n",
        "    utterances = []\n",
        "    labels = []\n",
        "\n",
        "    for file_name in os.listdir(folder_path):\n",
        "        if file_name.endswith(\".dat\"):\n",
        "            with open(os.path.join(folder_path, file_name), \"r\") as file:\n",
        "                lines = file.readlines()\n",
        "                for line in lines:\n",
        "                    utterances.append(line.strip())\n",
        "                    labels.append(file_name[:-4])  # Remove the \".dat\" extension to get the intent label\n",
        "\n",
        "    return utterances, labels"
      ],
      "metadata": {
        "id": "tJZlhGc-CIhG"
      },
      "execution_count": 19,
      "outputs": []
    },
    {
      "cell_type": "code",
      "source": [
        "utterances, labels = load_utterances_from_files('Chatbot/utterances/')"
      ],
      "metadata": {
        "id": "JpUW1ivfCfqX"
      },
      "execution_count": 20,
      "outputs": []
    },
    {
      "cell_type": "code",
      "source": [
        "labels"
      ],
      "metadata": {
        "id": "jsCq3u1_EV9C"
      },
      "execution_count": null,
      "outputs": []
    },
    {
      "cell_type": "code",
      "source": [
        "utterances"
      ],
      "metadata": {
        "id": "P3QYFSkFEaFZ"
      },
      "execution_count": null,
      "outputs": []
    },
    {
      "cell_type": "code",
      "source": [
        "X_train, X_test, y_train, y_test = train_test_split(utterances, labels, test_size=0.2, random_state=42)"
      ],
      "metadata": {
        "id": "lS7kywuyDn0Y"
      },
      "execution_count": 21,
      "outputs": []
    },
    {
      "cell_type": "code",
      "source": [
        "vectorizer = TfidfVectorizer()"
      ],
      "metadata": {
        "id": "Ix-uPQ0hDqru"
      },
      "execution_count": 22,
      "outputs": []
    },
    {
      "cell_type": "code",
      "source": [
        "X_train_vectorized = vectorizer.fit_transform(X_train)"
      ],
      "metadata": {
        "id": "2W_hQzWDDtsu"
      },
      "execution_count": 23,
      "outputs": []
    },
    {
      "cell_type": "code",
      "source": [
        "classifier = MultinomialNB()\n",
        "classifier.fit(X_train_vectorized, y_train)"
      ],
      "metadata": {
        "colab": {
          "base_uri": "https://localhost:8080/",
          "height": 75
        },
        "id": "03c69hKjDy5O",
        "outputId": "c102d2c9-d422-4bd5-c598-d5a089fc7b21"
      },
      "execution_count": 24,
      "outputs": [
        {
          "output_type": "execute_result",
          "data": {
            "text/plain": [
              "MultinomialNB()"
            ],
            "text/html": [
              "<style>#sk-container-id-1 {color: black;background-color: white;}#sk-container-id-1 pre{padding: 0;}#sk-container-id-1 div.sk-toggleable {background-color: white;}#sk-container-id-1 label.sk-toggleable__label {cursor: pointer;display: block;width: 100%;margin-bottom: 0;padding: 0.3em;box-sizing: border-box;text-align: center;}#sk-container-id-1 label.sk-toggleable__label-arrow:before {content: \"▸\";float: left;margin-right: 0.25em;color: #696969;}#sk-container-id-1 label.sk-toggleable__label-arrow:hover:before {color: black;}#sk-container-id-1 div.sk-estimator:hover label.sk-toggleable__label-arrow:before {color: black;}#sk-container-id-1 div.sk-toggleable__content {max-height: 0;max-width: 0;overflow: hidden;text-align: left;background-color: #f0f8ff;}#sk-container-id-1 div.sk-toggleable__content pre {margin: 0.2em;color: black;border-radius: 0.25em;background-color: #f0f8ff;}#sk-container-id-1 input.sk-toggleable__control:checked~div.sk-toggleable__content {max-height: 200px;max-width: 100%;overflow: auto;}#sk-container-id-1 input.sk-toggleable__control:checked~label.sk-toggleable__label-arrow:before {content: \"▾\";}#sk-container-id-1 div.sk-estimator input.sk-toggleable__control:checked~label.sk-toggleable__label {background-color: #d4ebff;}#sk-container-id-1 div.sk-label input.sk-toggleable__control:checked~label.sk-toggleable__label {background-color: #d4ebff;}#sk-container-id-1 input.sk-hidden--visually {border: 0;clip: rect(1px 1px 1px 1px);clip: rect(1px, 1px, 1px, 1px);height: 1px;margin: -1px;overflow: hidden;padding: 0;position: absolute;width: 1px;}#sk-container-id-1 div.sk-estimator {font-family: monospace;background-color: #f0f8ff;border: 1px dotted black;border-radius: 0.25em;box-sizing: border-box;margin-bottom: 0.5em;}#sk-container-id-1 div.sk-estimator:hover {background-color: #d4ebff;}#sk-container-id-1 div.sk-parallel-item::after {content: \"\";width: 100%;border-bottom: 1px solid gray;flex-grow: 1;}#sk-container-id-1 div.sk-label:hover label.sk-toggleable__label {background-color: #d4ebff;}#sk-container-id-1 div.sk-serial::before {content: \"\";position: absolute;border-left: 1px solid gray;box-sizing: border-box;top: 0;bottom: 0;left: 50%;z-index: 0;}#sk-container-id-1 div.sk-serial {display: flex;flex-direction: column;align-items: center;background-color: white;padding-right: 0.2em;padding-left: 0.2em;position: relative;}#sk-container-id-1 div.sk-item {position: relative;z-index: 1;}#sk-container-id-1 div.sk-parallel {display: flex;align-items: stretch;justify-content: center;background-color: white;position: relative;}#sk-container-id-1 div.sk-item::before, #sk-container-id-1 div.sk-parallel-item::before {content: \"\";position: absolute;border-left: 1px solid gray;box-sizing: border-box;top: 0;bottom: 0;left: 50%;z-index: -1;}#sk-container-id-1 div.sk-parallel-item {display: flex;flex-direction: column;z-index: 1;position: relative;background-color: white;}#sk-container-id-1 div.sk-parallel-item:first-child::after {align-self: flex-end;width: 50%;}#sk-container-id-1 div.sk-parallel-item:last-child::after {align-self: flex-start;width: 50%;}#sk-container-id-1 div.sk-parallel-item:only-child::after {width: 0;}#sk-container-id-1 div.sk-dashed-wrapped {border: 1px dashed gray;margin: 0 0.4em 0.5em 0.4em;box-sizing: border-box;padding-bottom: 0.4em;background-color: white;}#sk-container-id-1 div.sk-label label {font-family: monospace;font-weight: bold;display: inline-block;line-height: 1.2em;}#sk-container-id-1 div.sk-label-container {text-align: center;}#sk-container-id-1 div.sk-container {/* jupyter's `normalize.less` sets `[hidden] { display: none; }` but bootstrap.min.css set `[hidden] { display: none !important; }` so we also need the `!important` here to be able to override the default hidden behavior on the sphinx rendered scikit-learn.org. See: https://github.com/scikit-learn/scikit-learn/issues/21755 */display: inline-block !important;position: relative;}#sk-container-id-1 div.sk-text-repr-fallback {display: none;}</style><div id=\"sk-container-id-1\" class=\"sk-top-container\"><div class=\"sk-text-repr-fallback\"><pre>MultinomialNB()</pre><b>In a Jupyter environment, please rerun this cell to show the HTML representation or trust the notebook. <br />On GitHub, the HTML representation is unable to render, please try loading this page with nbviewer.org.</b></div><div class=\"sk-container\" hidden><div class=\"sk-item\"><div class=\"sk-estimator sk-toggleable\"><input class=\"sk-toggleable__control sk-hidden--visually\" id=\"sk-estimator-id-1\" type=\"checkbox\" checked><label for=\"sk-estimator-id-1\" class=\"sk-toggleable__label sk-toggleable__label-arrow\">MultinomialNB</label><div class=\"sk-toggleable__content\"><pre>MultinomialNB()</pre></div></div></div></div></div>"
            ]
          },
          "metadata": {},
          "execution_count": 24
        }
      ]
    },
    {
      "cell_type": "code",
      "source": [
        "X_test_vectorized = vectorizer.transform(X_test)"
      ],
      "metadata": {
        "id": "uyGTdS2TD2Cs"
      },
      "execution_count": 25,
      "outputs": []
    },
    {
      "cell_type": "code",
      "source": [
        "y_pred = classifier.predict(X_test_vectorized)"
      ],
      "metadata": {
        "id": "PJ629MEWD5nl"
      },
      "execution_count": 26,
      "outputs": []
    },
    {
      "cell_type": "code",
      "source": [
        "accuracy = accuracy_score(y_test, y_pred)\n",
        "print(f\"Accuracy: {accuracy}\")"
      ],
      "metadata": {
        "colab": {
          "base_uri": "https://localhost:8080/"
        },
        "id": "2izT7wnvD9ox",
        "outputId": "8e15fe17-3b62-462a-baaf-ce32191f6155"
      },
      "execution_count": 27,
      "outputs": [
        {
          "output_type": "stream",
          "name": "stdout",
          "text": [
            "Accuracy: 1.0\n"
          ]
        }
      ]
    },
    {
      "cell_type": "code",
      "source": [
        "from sklearn.neighbors import KNeighborsClassifier"
      ],
      "metadata": {
        "id": "t0bkL6jwFo-u"
      },
      "execution_count": 30,
      "outputs": []
    },
    {
      "cell_type": "code",
      "source": [
        "neigh = KNeighborsClassifier(n_neighbors=5)  # You can adjust the number of neighbors as needed\n",
        "neigh.fit(X_train_vectorized, y_train)"
      ],
      "metadata": {
        "colab": {
          "base_uri": "https://localhost:8080/",
          "height": 75
        },
        "id": "ENCCDDJ5FuOg",
        "outputId": "66f0a860-6d90-46e0-c578-2026bfc7aa10"
      },
      "execution_count": 32,
      "outputs": [
        {
          "output_type": "execute_result",
          "data": {
            "text/plain": [
              "KNeighborsClassifier()"
            ],
            "text/html": [
              "<style>#sk-container-id-3 {color: black;background-color: white;}#sk-container-id-3 pre{padding: 0;}#sk-container-id-3 div.sk-toggleable {background-color: white;}#sk-container-id-3 label.sk-toggleable__label {cursor: pointer;display: block;width: 100%;margin-bottom: 0;padding: 0.3em;box-sizing: border-box;text-align: center;}#sk-container-id-3 label.sk-toggleable__label-arrow:before {content: \"▸\";float: left;margin-right: 0.25em;color: #696969;}#sk-container-id-3 label.sk-toggleable__label-arrow:hover:before {color: black;}#sk-container-id-3 div.sk-estimator:hover label.sk-toggleable__label-arrow:before {color: black;}#sk-container-id-3 div.sk-toggleable__content {max-height: 0;max-width: 0;overflow: hidden;text-align: left;background-color: #f0f8ff;}#sk-container-id-3 div.sk-toggleable__content pre {margin: 0.2em;color: black;border-radius: 0.25em;background-color: #f0f8ff;}#sk-container-id-3 input.sk-toggleable__control:checked~div.sk-toggleable__content {max-height: 200px;max-width: 100%;overflow: auto;}#sk-container-id-3 input.sk-toggleable__control:checked~label.sk-toggleable__label-arrow:before {content: \"▾\";}#sk-container-id-3 div.sk-estimator input.sk-toggleable__control:checked~label.sk-toggleable__label {background-color: #d4ebff;}#sk-container-id-3 div.sk-label input.sk-toggleable__control:checked~label.sk-toggleable__label {background-color: #d4ebff;}#sk-container-id-3 input.sk-hidden--visually {border: 0;clip: rect(1px 1px 1px 1px);clip: rect(1px, 1px, 1px, 1px);height: 1px;margin: -1px;overflow: hidden;padding: 0;position: absolute;width: 1px;}#sk-container-id-3 div.sk-estimator {font-family: monospace;background-color: #f0f8ff;border: 1px dotted black;border-radius: 0.25em;box-sizing: border-box;margin-bottom: 0.5em;}#sk-container-id-3 div.sk-estimator:hover {background-color: #d4ebff;}#sk-container-id-3 div.sk-parallel-item::after {content: \"\";width: 100%;border-bottom: 1px solid gray;flex-grow: 1;}#sk-container-id-3 div.sk-label:hover label.sk-toggleable__label {background-color: #d4ebff;}#sk-container-id-3 div.sk-serial::before {content: \"\";position: absolute;border-left: 1px solid gray;box-sizing: border-box;top: 0;bottom: 0;left: 50%;z-index: 0;}#sk-container-id-3 div.sk-serial {display: flex;flex-direction: column;align-items: center;background-color: white;padding-right: 0.2em;padding-left: 0.2em;position: relative;}#sk-container-id-3 div.sk-item {position: relative;z-index: 1;}#sk-container-id-3 div.sk-parallel {display: flex;align-items: stretch;justify-content: center;background-color: white;position: relative;}#sk-container-id-3 div.sk-item::before, #sk-container-id-3 div.sk-parallel-item::before {content: \"\";position: absolute;border-left: 1px solid gray;box-sizing: border-box;top: 0;bottom: 0;left: 50%;z-index: -1;}#sk-container-id-3 div.sk-parallel-item {display: flex;flex-direction: column;z-index: 1;position: relative;background-color: white;}#sk-container-id-3 div.sk-parallel-item:first-child::after {align-self: flex-end;width: 50%;}#sk-container-id-3 div.sk-parallel-item:last-child::after {align-self: flex-start;width: 50%;}#sk-container-id-3 div.sk-parallel-item:only-child::after {width: 0;}#sk-container-id-3 div.sk-dashed-wrapped {border: 1px dashed gray;margin: 0 0.4em 0.5em 0.4em;box-sizing: border-box;padding-bottom: 0.4em;background-color: white;}#sk-container-id-3 div.sk-label label {font-family: monospace;font-weight: bold;display: inline-block;line-height: 1.2em;}#sk-container-id-3 div.sk-label-container {text-align: center;}#sk-container-id-3 div.sk-container {/* jupyter's `normalize.less` sets `[hidden] { display: none; }` but bootstrap.min.css set `[hidden] { display: none !important; }` so we also need the `!important` here to be able to override the default hidden behavior on the sphinx rendered scikit-learn.org. See: https://github.com/scikit-learn/scikit-learn/issues/21755 */display: inline-block !important;position: relative;}#sk-container-id-3 div.sk-text-repr-fallback {display: none;}</style><div id=\"sk-container-id-3\" class=\"sk-top-container\"><div class=\"sk-text-repr-fallback\"><pre>KNeighborsClassifier()</pre><b>In a Jupyter environment, please rerun this cell to show the HTML representation or trust the notebook. <br />On GitHub, the HTML representation is unable to render, please try loading this page with nbviewer.org.</b></div><div class=\"sk-container\" hidden><div class=\"sk-item\"><div class=\"sk-estimator sk-toggleable\"><input class=\"sk-toggleable__control sk-hidden--visually\" id=\"sk-estimator-id-3\" type=\"checkbox\" checked><label for=\"sk-estimator-id-3\" class=\"sk-toggleable__label sk-toggleable__label-arrow\">KNeighborsClassifier</label><div class=\"sk-toggleable__content\"><pre>KNeighborsClassifier()</pre></div></div></div></div></div>"
            ]
          },
          "metadata": {},
          "execution_count": 32
        }
      ]
    },
    {
      "cell_type": "code",
      "source": [
        "y_pred = neigh.predict(X_test_vectorized)"
      ],
      "metadata": {
        "id": "hMsJqqNNF3Xw"
      },
      "execution_count": 33,
      "outputs": []
    },
    {
      "cell_type": "code",
      "source": [
        "accuracy = accuracy_score(y_test, y_pred)\n",
        "print(f\"Accuracy: {accuracy}\")"
      ],
      "metadata": {
        "colab": {
          "base_uri": "https://localhost:8080/"
        },
        "id": "Sglkm3PBGEOH",
        "outputId": "7c0a12ec-b3b3-43df-b8a8-47297420d3ef"
      },
      "execution_count": 34,
      "outputs": [
        {
          "output_type": "stream",
          "name": "stdout",
          "text": [
            "Accuracy: 1.0\n"
          ]
        }
      ]
    },
    {
      "cell_type": "code",
      "source": [
        "from sklearn.linear_model import LogisticRegression"
      ],
      "metadata": {
        "id": "T21SwAd-IW_n"
      },
      "execution_count": 35,
      "outputs": []
    },
    {
      "cell_type": "code",
      "source": [
        "lr = LogisticRegression(max_iter=1000)  # You can adjust other parameters as needed\n",
        "lr.fit(X_train_vectorized, y_train)"
      ],
      "metadata": {
        "colab": {
          "base_uri": "https://localhost:8080/",
          "height": 75
        },
        "id": "Wlpx9W2AIajP",
        "outputId": "2c412542-bdc7-4846-d642-5cff85955d1c"
      },
      "execution_count": 36,
      "outputs": [
        {
          "output_type": "execute_result",
          "data": {
            "text/plain": [
              "LogisticRegression(max_iter=1000)"
            ],
            "text/html": [
              "<style>#sk-container-id-4 {color: black;background-color: white;}#sk-container-id-4 pre{padding: 0;}#sk-container-id-4 div.sk-toggleable {background-color: white;}#sk-container-id-4 label.sk-toggleable__label {cursor: pointer;display: block;width: 100%;margin-bottom: 0;padding: 0.3em;box-sizing: border-box;text-align: center;}#sk-container-id-4 label.sk-toggleable__label-arrow:before {content: \"▸\";float: left;margin-right: 0.25em;color: #696969;}#sk-container-id-4 label.sk-toggleable__label-arrow:hover:before {color: black;}#sk-container-id-4 div.sk-estimator:hover label.sk-toggleable__label-arrow:before {color: black;}#sk-container-id-4 div.sk-toggleable__content {max-height: 0;max-width: 0;overflow: hidden;text-align: left;background-color: #f0f8ff;}#sk-container-id-4 div.sk-toggleable__content pre {margin: 0.2em;color: black;border-radius: 0.25em;background-color: #f0f8ff;}#sk-container-id-4 input.sk-toggleable__control:checked~div.sk-toggleable__content {max-height: 200px;max-width: 100%;overflow: auto;}#sk-container-id-4 input.sk-toggleable__control:checked~label.sk-toggleable__label-arrow:before {content: \"▾\";}#sk-container-id-4 div.sk-estimator input.sk-toggleable__control:checked~label.sk-toggleable__label {background-color: #d4ebff;}#sk-container-id-4 div.sk-label input.sk-toggleable__control:checked~label.sk-toggleable__label {background-color: #d4ebff;}#sk-container-id-4 input.sk-hidden--visually {border: 0;clip: rect(1px 1px 1px 1px);clip: rect(1px, 1px, 1px, 1px);height: 1px;margin: -1px;overflow: hidden;padding: 0;position: absolute;width: 1px;}#sk-container-id-4 div.sk-estimator {font-family: monospace;background-color: #f0f8ff;border: 1px dotted black;border-radius: 0.25em;box-sizing: border-box;margin-bottom: 0.5em;}#sk-container-id-4 div.sk-estimator:hover {background-color: #d4ebff;}#sk-container-id-4 div.sk-parallel-item::after {content: \"\";width: 100%;border-bottom: 1px solid gray;flex-grow: 1;}#sk-container-id-4 div.sk-label:hover label.sk-toggleable__label {background-color: #d4ebff;}#sk-container-id-4 div.sk-serial::before {content: \"\";position: absolute;border-left: 1px solid gray;box-sizing: border-box;top: 0;bottom: 0;left: 50%;z-index: 0;}#sk-container-id-4 div.sk-serial {display: flex;flex-direction: column;align-items: center;background-color: white;padding-right: 0.2em;padding-left: 0.2em;position: relative;}#sk-container-id-4 div.sk-item {position: relative;z-index: 1;}#sk-container-id-4 div.sk-parallel {display: flex;align-items: stretch;justify-content: center;background-color: white;position: relative;}#sk-container-id-4 div.sk-item::before, #sk-container-id-4 div.sk-parallel-item::before {content: \"\";position: absolute;border-left: 1px solid gray;box-sizing: border-box;top: 0;bottom: 0;left: 50%;z-index: -1;}#sk-container-id-4 div.sk-parallel-item {display: flex;flex-direction: column;z-index: 1;position: relative;background-color: white;}#sk-container-id-4 div.sk-parallel-item:first-child::after {align-self: flex-end;width: 50%;}#sk-container-id-4 div.sk-parallel-item:last-child::after {align-self: flex-start;width: 50%;}#sk-container-id-4 div.sk-parallel-item:only-child::after {width: 0;}#sk-container-id-4 div.sk-dashed-wrapped {border: 1px dashed gray;margin: 0 0.4em 0.5em 0.4em;box-sizing: border-box;padding-bottom: 0.4em;background-color: white;}#sk-container-id-4 div.sk-label label {font-family: monospace;font-weight: bold;display: inline-block;line-height: 1.2em;}#sk-container-id-4 div.sk-label-container {text-align: center;}#sk-container-id-4 div.sk-container {/* jupyter's `normalize.less` sets `[hidden] { display: none; }` but bootstrap.min.css set `[hidden] { display: none !important; }` so we also need the `!important` here to be able to override the default hidden behavior on the sphinx rendered scikit-learn.org. See: https://github.com/scikit-learn/scikit-learn/issues/21755 */display: inline-block !important;position: relative;}#sk-container-id-4 div.sk-text-repr-fallback {display: none;}</style><div id=\"sk-container-id-4\" class=\"sk-top-container\"><div class=\"sk-text-repr-fallback\"><pre>LogisticRegression(max_iter=1000)</pre><b>In a Jupyter environment, please rerun this cell to show the HTML representation or trust the notebook. <br />On GitHub, the HTML representation is unable to render, please try loading this page with nbviewer.org.</b></div><div class=\"sk-container\" hidden><div class=\"sk-item\"><div class=\"sk-estimator sk-toggleable\"><input class=\"sk-toggleable__control sk-hidden--visually\" id=\"sk-estimator-id-4\" type=\"checkbox\" checked><label for=\"sk-estimator-id-4\" class=\"sk-toggleable__label sk-toggleable__label-arrow\">LogisticRegression</label><div class=\"sk-toggleable__content\"><pre>LogisticRegression(max_iter=1000)</pre></div></div></div></div></div>"
            ]
          },
          "metadata": {},
          "execution_count": 36
        }
      ]
    },
    {
      "cell_type": "code",
      "source": [
        "y_pred = lr.predict(X_test_vectorized)"
      ],
      "metadata": {
        "id": "Zss0NfK3IfMf"
      },
      "execution_count": 37,
      "outputs": []
    },
    {
      "cell_type": "code",
      "source": [
        "# Evaluate accuracy\n",
        "accuracy = accuracy_score(y_test, y_pred)\n",
        "print(f\"Accuracy: {accuracy}\")"
      ],
      "metadata": {
        "colab": {
          "base_uri": "https://localhost:8080/"
        },
        "id": "hpRNXJj7Ii1m",
        "outputId": "6311efb3-2f22-4f6a-c3b4-233676e9bb2f"
      },
      "execution_count": 38,
      "outputs": [
        {
          "output_type": "stream",
          "name": "stdout",
          "text": [
            "Accuracy: 1.0\n"
          ]
        }
      ]
    },
    {
      "cell_type": "code",
      "source": [
        "from sklearn.tree import DecisionTreeClassifier"
      ],
      "metadata": {
        "id": "Gsgkkq5pIskO"
      },
      "execution_count": 39,
      "outputs": []
    },
    {
      "cell_type": "code",
      "source": [
        "dtree = DecisionTreeClassifier(max_depth=3,criterion='entropy')  # You can adjust other parameters as needed\n",
        "dtree.fit(X_train_vectorized, y_train)"
      ],
      "metadata": {
        "colab": {
          "base_uri": "https://localhost:8080/",
          "height": 75
        },
        "id": "-3AQTUKdIv2R",
        "outputId": "071d2227-70d0-4264-81e5-9503012971a9"
      },
      "execution_count": 43,
      "outputs": [
        {
          "output_type": "execute_result",
          "data": {
            "text/plain": [
              "DecisionTreeClassifier(criterion='entropy', max_depth=3)"
            ],
            "text/html": [
              "<style>#sk-container-id-6 {color: black;background-color: white;}#sk-container-id-6 pre{padding: 0;}#sk-container-id-6 div.sk-toggleable {background-color: white;}#sk-container-id-6 label.sk-toggleable__label {cursor: pointer;display: block;width: 100%;margin-bottom: 0;padding: 0.3em;box-sizing: border-box;text-align: center;}#sk-container-id-6 label.sk-toggleable__label-arrow:before {content: \"▸\";float: left;margin-right: 0.25em;color: #696969;}#sk-container-id-6 label.sk-toggleable__label-arrow:hover:before {color: black;}#sk-container-id-6 div.sk-estimator:hover label.sk-toggleable__label-arrow:before {color: black;}#sk-container-id-6 div.sk-toggleable__content {max-height: 0;max-width: 0;overflow: hidden;text-align: left;background-color: #f0f8ff;}#sk-container-id-6 div.sk-toggleable__content pre {margin: 0.2em;color: black;border-radius: 0.25em;background-color: #f0f8ff;}#sk-container-id-6 input.sk-toggleable__control:checked~div.sk-toggleable__content {max-height: 200px;max-width: 100%;overflow: auto;}#sk-container-id-6 input.sk-toggleable__control:checked~label.sk-toggleable__label-arrow:before {content: \"▾\";}#sk-container-id-6 div.sk-estimator input.sk-toggleable__control:checked~label.sk-toggleable__label {background-color: #d4ebff;}#sk-container-id-6 div.sk-label input.sk-toggleable__control:checked~label.sk-toggleable__label {background-color: #d4ebff;}#sk-container-id-6 input.sk-hidden--visually {border: 0;clip: rect(1px 1px 1px 1px);clip: rect(1px, 1px, 1px, 1px);height: 1px;margin: -1px;overflow: hidden;padding: 0;position: absolute;width: 1px;}#sk-container-id-6 div.sk-estimator {font-family: monospace;background-color: #f0f8ff;border: 1px dotted black;border-radius: 0.25em;box-sizing: border-box;margin-bottom: 0.5em;}#sk-container-id-6 div.sk-estimator:hover {background-color: #d4ebff;}#sk-container-id-6 div.sk-parallel-item::after {content: \"\";width: 100%;border-bottom: 1px solid gray;flex-grow: 1;}#sk-container-id-6 div.sk-label:hover label.sk-toggleable__label {background-color: #d4ebff;}#sk-container-id-6 div.sk-serial::before {content: \"\";position: absolute;border-left: 1px solid gray;box-sizing: border-box;top: 0;bottom: 0;left: 50%;z-index: 0;}#sk-container-id-6 div.sk-serial {display: flex;flex-direction: column;align-items: center;background-color: white;padding-right: 0.2em;padding-left: 0.2em;position: relative;}#sk-container-id-6 div.sk-item {position: relative;z-index: 1;}#sk-container-id-6 div.sk-parallel {display: flex;align-items: stretch;justify-content: center;background-color: white;position: relative;}#sk-container-id-6 div.sk-item::before, #sk-container-id-6 div.sk-parallel-item::before {content: \"\";position: absolute;border-left: 1px solid gray;box-sizing: border-box;top: 0;bottom: 0;left: 50%;z-index: -1;}#sk-container-id-6 div.sk-parallel-item {display: flex;flex-direction: column;z-index: 1;position: relative;background-color: white;}#sk-container-id-6 div.sk-parallel-item:first-child::after {align-self: flex-end;width: 50%;}#sk-container-id-6 div.sk-parallel-item:last-child::after {align-self: flex-start;width: 50%;}#sk-container-id-6 div.sk-parallel-item:only-child::after {width: 0;}#sk-container-id-6 div.sk-dashed-wrapped {border: 1px dashed gray;margin: 0 0.4em 0.5em 0.4em;box-sizing: border-box;padding-bottom: 0.4em;background-color: white;}#sk-container-id-6 div.sk-label label {font-family: monospace;font-weight: bold;display: inline-block;line-height: 1.2em;}#sk-container-id-6 div.sk-label-container {text-align: center;}#sk-container-id-6 div.sk-container {/* jupyter's `normalize.less` sets `[hidden] { display: none; }` but bootstrap.min.css set `[hidden] { display: none !important; }` so we also need the `!important` here to be able to override the default hidden behavior on the sphinx rendered scikit-learn.org. See: https://github.com/scikit-learn/scikit-learn/issues/21755 */display: inline-block !important;position: relative;}#sk-container-id-6 div.sk-text-repr-fallback {display: none;}</style><div id=\"sk-container-id-6\" class=\"sk-top-container\"><div class=\"sk-text-repr-fallback\"><pre>DecisionTreeClassifier(criterion=&#x27;entropy&#x27;, max_depth=3)</pre><b>In a Jupyter environment, please rerun this cell to show the HTML representation or trust the notebook. <br />On GitHub, the HTML representation is unable to render, please try loading this page with nbviewer.org.</b></div><div class=\"sk-container\" hidden><div class=\"sk-item\"><div class=\"sk-estimator sk-toggleable\"><input class=\"sk-toggleable__control sk-hidden--visually\" id=\"sk-estimator-id-6\" type=\"checkbox\" checked><label for=\"sk-estimator-id-6\" class=\"sk-toggleable__label sk-toggleable__label-arrow\">DecisionTreeClassifier</label><div class=\"sk-toggleable__content\"><pre>DecisionTreeClassifier(criterion=&#x27;entropy&#x27;, max_depth=3)</pre></div></div></div></div></div>"
            ]
          },
          "metadata": {},
          "execution_count": 43
        }
      ]
    },
    {
      "cell_type": "code",
      "source": [
        "y_pred = dtree.predict(X_test_vectorized)"
      ],
      "metadata": {
        "id": "W4y4GSJ1Iz3W"
      },
      "execution_count": 44,
      "outputs": []
    },
    {
      "cell_type": "code",
      "source": [
        "# Evaluate accuracy\n",
        "accuracy = accuracy_score(y_test, y_pred)\n",
        "print(f\"Accuracy: {accuracy}\")"
      ],
      "metadata": {
        "colab": {
          "base_uri": "https://localhost:8080/"
        },
        "id": "hTfIdXAuI3rt",
        "outputId": "3923773c-115a-408c-a7c2-e7ca8a9a3537"
      },
      "execution_count": 45,
      "outputs": [
        {
          "output_type": "stream",
          "name": "stdout",
          "text": [
            "Accuracy: 0.88\n"
          ]
        }
      ]
    },
    {
      "cell_type": "code",
      "source": [
        "from sklearn.svm import SVC"
      ],
      "metadata": {
        "id": "mHYQ_0bcJNR-"
      },
      "execution_count": 46,
      "outputs": []
    },
    {
      "cell_type": "code",
      "source": [
        "clf = SVC(kernel='linear')  # You can adjust other parameters as needed\n",
        "clf.fit(X_train_vectorized, y_train)"
      ],
      "metadata": {
        "colab": {
          "base_uri": "https://localhost:8080/",
          "height": 75
        },
        "id": "32YBp2DaJSLH",
        "outputId": "4d677ff4-bcc7-4819-c529-52b98ce41319"
      },
      "execution_count": 47,
      "outputs": [
        {
          "output_type": "execute_result",
          "data": {
            "text/plain": [
              "SVC(kernel='linear')"
            ],
            "text/html": [
              "<style>#sk-container-id-7 {color: black;background-color: white;}#sk-container-id-7 pre{padding: 0;}#sk-container-id-7 div.sk-toggleable {background-color: white;}#sk-container-id-7 label.sk-toggleable__label {cursor: pointer;display: block;width: 100%;margin-bottom: 0;padding: 0.3em;box-sizing: border-box;text-align: center;}#sk-container-id-7 label.sk-toggleable__label-arrow:before {content: \"▸\";float: left;margin-right: 0.25em;color: #696969;}#sk-container-id-7 label.sk-toggleable__label-arrow:hover:before {color: black;}#sk-container-id-7 div.sk-estimator:hover label.sk-toggleable__label-arrow:before {color: black;}#sk-container-id-7 div.sk-toggleable__content {max-height: 0;max-width: 0;overflow: hidden;text-align: left;background-color: #f0f8ff;}#sk-container-id-7 div.sk-toggleable__content pre {margin: 0.2em;color: black;border-radius: 0.25em;background-color: #f0f8ff;}#sk-container-id-7 input.sk-toggleable__control:checked~div.sk-toggleable__content {max-height: 200px;max-width: 100%;overflow: auto;}#sk-container-id-7 input.sk-toggleable__control:checked~label.sk-toggleable__label-arrow:before {content: \"▾\";}#sk-container-id-7 div.sk-estimator input.sk-toggleable__control:checked~label.sk-toggleable__label {background-color: #d4ebff;}#sk-container-id-7 div.sk-label input.sk-toggleable__control:checked~label.sk-toggleable__label {background-color: #d4ebff;}#sk-container-id-7 input.sk-hidden--visually {border: 0;clip: rect(1px 1px 1px 1px);clip: rect(1px, 1px, 1px, 1px);height: 1px;margin: -1px;overflow: hidden;padding: 0;position: absolute;width: 1px;}#sk-container-id-7 div.sk-estimator {font-family: monospace;background-color: #f0f8ff;border: 1px dotted black;border-radius: 0.25em;box-sizing: border-box;margin-bottom: 0.5em;}#sk-container-id-7 div.sk-estimator:hover {background-color: #d4ebff;}#sk-container-id-7 div.sk-parallel-item::after {content: \"\";width: 100%;border-bottom: 1px solid gray;flex-grow: 1;}#sk-container-id-7 div.sk-label:hover label.sk-toggleable__label {background-color: #d4ebff;}#sk-container-id-7 div.sk-serial::before {content: \"\";position: absolute;border-left: 1px solid gray;box-sizing: border-box;top: 0;bottom: 0;left: 50%;z-index: 0;}#sk-container-id-7 div.sk-serial {display: flex;flex-direction: column;align-items: center;background-color: white;padding-right: 0.2em;padding-left: 0.2em;position: relative;}#sk-container-id-7 div.sk-item {position: relative;z-index: 1;}#sk-container-id-7 div.sk-parallel {display: flex;align-items: stretch;justify-content: center;background-color: white;position: relative;}#sk-container-id-7 div.sk-item::before, #sk-container-id-7 div.sk-parallel-item::before {content: \"\";position: absolute;border-left: 1px solid gray;box-sizing: border-box;top: 0;bottom: 0;left: 50%;z-index: -1;}#sk-container-id-7 div.sk-parallel-item {display: flex;flex-direction: column;z-index: 1;position: relative;background-color: white;}#sk-container-id-7 div.sk-parallel-item:first-child::after {align-self: flex-end;width: 50%;}#sk-container-id-7 div.sk-parallel-item:last-child::after {align-self: flex-start;width: 50%;}#sk-container-id-7 div.sk-parallel-item:only-child::after {width: 0;}#sk-container-id-7 div.sk-dashed-wrapped {border: 1px dashed gray;margin: 0 0.4em 0.5em 0.4em;box-sizing: border-box;padding-bottom: 0.4em;background-color: white;}#sk-container-id-7 div.sk-label label {font-family: monospace;font-weight: bold;display: inline-block;line-height: 1.2em;}#sk-container-id-7 div.sk-label-container {text-align: center;}#sk-container-id-7 div.sk-container {/* jupyter's `normalize.less` sets `[hidden] { display: none; }` but bootstrap.min.css set `[hidden] { display: none !important; }` so we also need the `!important` here to be able to override the default hidden behavior on the sphinx rendered scikit-learn.org. See: https://github.com/scikit-learn/scikit-learn/issues/21755 */display: inline-block !important;position: relative;}#sk-container-id-7 div.sk-text-repr-fallback {display: none;}</style><div id=\"sk-container-id-7\" class=\"sk-top-container\"><div class=\"sk-text-repr-fallback\"><pre>SVC(kernel=&#x27;linear&#x27;)</pre><b>In a Jupyter environment, please rerun this cell to show the HTML representation or trust the notebook. <br />On GitHub, the HTML representation is unable to render, please try loading this page with nbviewer.org.</b></div><div class=\"sk-container\" hidden><div class=\"sk-item\"><div class=\"sk-estimator sk-toggleable\"><input class=\"sk-toggleable__control sk-hidden--visually\" id=\"sk-estimator-id-7\" type=\"checkbox\" checked><label for=\"sk-estimator-id-7\" class=\"sk-toggleable__label sk-toggleable__label-arrow\">SVC</label><div class=\"sk-toggleable__content\"><pre>SVC(kernel=&#x27;linear&#x27;)</pre></div></div></div></div></div>"
            ]
          },
          "metadata": {},
          "execution_count": 47
        }
      ]
    },
    {
      "cell_type": "code",
      "source": [
        "y_pred = clf.predict(X_test_vectorized)"
      ],
      "metadata": {
        "id": "c4zsHxsiJWlw"
      },
      "execution_count": 48,
      "outputs": []
    },
    {
      "cell_type": "code",
      "source": [
        "# Evaluate accuracy\n",
        "accuracy = accuracy_score(y_test, y_pred)\n",
        "print(f\"Accuracy: {accuracy}\")"
      ],
      "metadata": {
        "colab": {
          "base_uri": "https://localhost:8080/"
        },
        "id": "Kh5D_2afJaEn",
        "outputId": "1fa689d8-1c49-47cf-9e55-53e7de35cd88"
      },
      "execution_count": 49,
      "outputs": [
        {
          "output_type": "stream",
          "name": "stdout",
          "text": [
            "Accuracy: 1.0\n"
          ]
        }
      ]
    },
    {
      "cell_type": "code",
      "source": [
        "from sklearn.ensemble import BaggingClassifier\n",
        "from sklearn.ensemble import RandomForestClassifier\n",
        "from sklearn.ensemble import VotingClassifier"
      ],
      "metadata": {
        "id": "EeURfwA8JrGw"
      },
      "execution_count": 50,
      "outputs": []
    },
    {
      "cell_type": "code",
      "source": [
        "clf = BaggingClassifier(estimator=SVC(kernel='linear'),n_estimators=10,random_state=32)"
      ],
      "metadata": {
        "id": "D3bFYdZuJkqw"
      },
      "execution_count": 51,
      "outputs": []
    },
    {
      "cell_type": "code",
      "source": [
        "clf.fit(X_train_vectorized, y_train)"
      ],
      "metadata": {
        "colab": {
          "base_uri": "https://localhost:8080/",
          "height": 118
        },
        "id": "Q51ZZ1-tJ0Az",
        "outputId": "e0678052-1469-44ed-d380-deb7a1092adb"
      },
      "execution_count": 52,
      "outputs": [
        {
          "output_type": "execute_result",
          "data": {
            "text/plain": [
              "BaggingClassifier(estimator=SVC(kernel='linear'), random_state=32)"
            ],
            "text/html": [
              "<style>#sk-container-id-8 {color: black;background-color: white;}#sk-container-id-8 pre{padding: 0;}#sk-container-id-8 div.sk-toggleable {background-color: white;}#sk-container-id-8 label.sk-toggleable__label {cursor: pointer;display: block;width: 100%;margin-bottom: 0;padding: 0.3em;box-sizing: border-box;text-align: center;}#sk-container-id-8 label.sk-toggleable__label-arrow:before {content: \"▸\";float: left;margin-right: 0.25em;color: #696969;}#sk-container-id-8 label.sk-toggleable__label-arrow:hover:before {color: black;}#sk-container-id-8 div.sk-estimator:hover label.sk-toggleable__label-arrow:before {color: black;}#sk-container-id-8 div.sk-toggleable__content {max-height: 0;max-width: 0;overflow: hidden;text-align: left;background-color: #f0f8ff;}#sk-container-id-8 div.sk-toggleable__content pre {margin: 0.2em;color: black;border-radius: 0.25em;background-color: #f0f8ff;}#sk-container-id-8 input.sk-toggleable__control:checked~div.sk-toggleable__content {max-height: 200px;max-width: 100%;overflow: auto;}#sk-container-id-8 input.sk-toggleable__control:checked~label.sk-toggleable__label-arrow:before {content: \"▾\";}#sk-container-id-8 div.sk-estimator input.sk-toggleable__control:checked~label.sk-toggleable__label {background-color: #d4ebff;}#sk-container-id-8 div.sk-label input.sk-toggleable__control:checked~label.sk-toggleable__label {background-color: #d4ebff;}#sk-container-id-8 input.sk-hidden--visually {border: 0;clip: rect(1px 1px 1px 1px);clip: rect(1px, 1px, 1px, 1px);height: 1px;margin: -1px;overflow: hidden;padding: 0;position: absolute;width: 1px;}#sk-container-id-8 div.sk-estimator {font-family: monospace;background-color: #f0f8ff;border: 1px dotted black;border-radius: 0.25em;box-sizing: border-box;margin-bottom: 0.5em;}#sk-container-id-8 div.sk-estimator:hover {background-color: #d4ebff;}#sk-container-id-8 div.sk-parallel-item::after {content: \"\";width: 100%;border-bottom: 1px solid gray;flex-grow: 1;}#sk-container-id-8 div.sk-label:hover label.sk-toggleable__label {background-color: #d4ebff;}#sk-container-id-8 div.sk-serial::before {content: \"\";position: absolute;border-left: 1px solid gray;box-sizing: border-box;top: 0;bottom: 0;left: 50%;z-index: 0;}#sk-container-id-8 div.sk-serial {display: flex;flex-direction: column;align-items: center;background-color: white;padding-right: 0.2em;padding-left: 0.2em;position: relative;}#sk-container-id-8 div.sk-item {position: relative;z-index: 1;}#sk-container-id-8 div.sk-parallel {display: flex;align-items: stretch;justify-content: center;background-color: white;position: relative;}#sk-container-id-8 div.sk-item::before, #sk-container-id-8 div.sk-parallel-item::before {content: \"\";position: absolute;border-left: 1px solid gray;box-sizing: border-box;top: 0;bottom: 0;left: 50%;z-index: -1;}#sk-container-id-8 div.sk-parallel-item {display: flex;flex-direction: column;z-index: 1;position: relative;background-color: white;}#sk-container-id-8 div.sk-parallel-item:first-child::after {align-self: flex-end;width: 50%;}#sk-container-id-8 div.sk-parallel-item:last-child::after {align-self: flex-start;width: 50%;}#sk-container-id-8 div.sk-parallel-item:only-child::after {width: 0;}#sk-container-id-8 div.sk-dashed-wrapped {border: 1px dashed gray;margin: 0 0.4em 0.5em 0.4em;box-sizing: border-box;padding-bottom: 0.4em;background-color: white;}#sk-container-id-8 div.sk-label label {font-family: monospace;font-weight: bold;display: inline-block;line-height: 1.2em;}#sk-container-id-8 div.sk-label-container {text-align: center;}#sk-container-id-8 div.sk-container {/* jupyter's `normalize.less` sets `[hidden] { display: none; }` but bootstrap.min.css set `[hidden] { display: none !important; }` so we also need the `!important` here to be able to override the default hidden behavior on the sphinx rendered scikit-learn.org. See: https://github.com/scikit-learn/scikit-learn/issues/21755 */display: inline-block !important;position: relative;}#sk-container-id-8 div.sk-text-repr-fallback {display: none;}</style><div id=\"sk-container-id-8\" class=\"sk-top-container\"><div class=\"sk-text-repr-fallback\"><pre>BaggingClassifier(estimator=SVC(kernel=&#x27;linear&#x27;), random_state=32)</pre><b>In a Jupyter environment, please rerun this cell to show the HTML representation or trust the notebook. <br />On GitHub, the HTML representation is unable to render, please try loading this page with nbviewer.org.</b></div><div class=\"sk-container\" hidden><div class=\"sk-item sk-dashed-wrapped\"><div class=\"sk-label-container\"><div class=\"sk-label sk-toggleable\"><input class=\"sk-toggleable__control sk-hidden--visually\" id=\"sk-estimator-id-8\" type=\"checkbox\" ><label for=\"sk-estimator-id-8\" class=\"sk-toggleable__label sk-toggleable__label-arrow\">BaggingClassifier</label><div class=\"sk-toggleable__content\"><pre>BaggingClassifier(estimator=SVC(kernel=&#x27;linear&#x27;), random_state=32)</pre></div></div></div><div class=\"sk-parallel\"><div class=\"sk-parallel-item\"><div class=\"sk-item\"><div class=\"sk-label-container\"><div class=\"sk-label sk-toggleable\"><input class=\"sk-toggleable__control sk-hidden--visually\" id=\"sk-estimator-id-9\" type=\"checkbox\" ><label for=\"sk-estimator-id-9\" class=\"sk-toggleable__label sk-toggleable__label-arrow\">estimator: SVC</label><div class=\"sk-toggleable__content\"><pre>SVC(kernel=&#x27;linear&#x27;)</pre></div></div></div><div class=\"sk-serial\"><div class=\"sk-item\"><div class=\"sk-estimator sk-toggleable\"><input class=\"sk-toggleable__control sk-hidden--visually\" id=\"sk-estimator-id-10\" type=\"checkbox\" ><label for=\"sk-estimator-id-10\" class=\"sk-toggleable__label sk-toggleable__label-arrow\">SVC</label><div class=\"sk-toggleable__content\"><pre>SVC(kernel=&#x27;linear&#x27;)</pre></div></div></div></div></div></div></div></div></div></div>"
            ]
          },
          "metadata": {},
          "execution_count": 52
        }
      ]
    },
    {
      "cell_type": "code",
      "source": [
        "y_pred = clf.predict(X_test_vectorized)"
      ],
      "metadata": {
        "id": "t03uv-vfJ29w"
      },
      "execution_count": 53,
      "outputs": []
    },
    {
      "cell_type": "code",
      "source": [
        "# Evaluate accuracy\n",
        "accuracy = accuracy_score(y_test, y_pred)\n",
        "print(f\"Accuracy: {accuracy}\")"
      ],
      "metadata": {
        "colab": {
          "base_uri": "https://localhost:8080/"
        },
        "id": "PyztJKUAJ53F",
        "outputId": "7b8fcadb-f9b6-4903-f34b-ed50f056fc7f"
      },
      "execution_count": 54,
      "outputs": [
        {
          "output_type": "stream",
          "name": "stdout",
          "text": [
            "Accuracy: 1.0\n"
          ]
        }
      ]
    },
    {
      "cell_type": "code",
      "source": [
        "rf = RandomForestClassifier(n_estimators=100,criterion='entropy')"
      ],
      "metadata": {
        "id": "2bWnesauJ_OA"
      },
      "execution_count": 55,
      "outputs": []
    },
    {
      "cell_type": "code",
      "source": [
        "rf.fit(X_train_vectorized, y_train)"
      ],
      "metadata": {
        "colab": {
          "base_uri": "https://localhost:8080/",
          "height": 75
        },
        "id": "BWfadJAHKB14",
        "outputId": "a9c37180-516e-4bf1-f6a5-471456aedafc"
      },
      "execution_count": 56,
      "outputs": [
        {
          "output_type": "execute_result",
          "data": {
            "text/plain": [
              "RandomForestClassifier(criterion='entropy')"
            ],
            "text/html": [
              "<style>#sk-container-id-9 {color: black;background-color: white;}#sk-container-id-9 pre{padding: 0;}#sk-container-id-9 div.sk-toggleable {background-color: white;}#sk-container-id-9 label.sk-toggleable__label {cursor: pointer;display: block;width: 100%;margin-bottom: 0;padding: 0.3em;box-sizing: border-box;text-align: center;}#sk-container-id-9 label.sk-toggleable__label-arrow:before {content: \"▸\";float: left;margin-right: 0.25em;color: #696969;}#sk-container-id-9 label.sk-toggleable__label-arrow:hover:before {color: black;}#sk-container-id-9 div.sk-estimator:hover label.sk-toggleable__label-arrow:before {color: black;}#sk-container-id-9 div.sk-toggleable__content {max-height: 0;max-width: 0;overflow: hidden;text-align: left;background-color: #f0f8ff;}#sk-container-id-9 div.sk-toggleable__content pre {margin: 0.2em;color: black;border-radius: 0.25em;background-color: #f0f8ff;}#sk-container-id-9 input.sk-toggleable__control:checked~div.sk-toggleable__content {max-height: 200px;max-width: 100%;overflow: auto;}#sk-container-id-9 input.sk-toggleable__control:checked~label.sk-toggleable__label-arrow:before {content: \"▾\";}#sk-container-id-9 div.sk-estimator input.sk-toggleable__control:checked~label.sk-toggleable__label {background-color: #d4ebff;}#sk-container-id-9 div.sk-label input.sk-toggleable__control:checked~label.sk-toggleable__label {background-color: #d4ebff;}#sk-container-id-9 input.sk-hidden--visually {border: 0;clip: rect(1px 1px 1px 1px);clip: rect(1px, 1px, 1px, 1px);height: 1px;margin: -1px;overflow: hidden;padding: 0;position: absolute;width: 1px;}#sk-container-id-9 div.sk-estimator {font-family: monospace;background-color: #f0f8ff;border: 1px dotted black;border-radius: 0.25em;box-sizing: border-box;margin-bottom: 0.5em;}#sk-container-id-9 div.sk-estimator:hover {background-color: #d4ebff;}#sk-container-id-9 div.sk-parallel-item::after {content: \"\";width: 100%;border-bottom: 1px solid gray;flex-grow: 1;}#sk-container-id-9 div.sk-label:hover label.sk-toggleable__label {background-color: #d4ebff;}#sk-container-id-9 div.sk-serial::before {content: \"\";position: absolute;border-left: 1px solid gray;box-sizing: border-box;top: 0;bottom: 0;left: 50%;z-index: 0;}#sk-container-id-9 div.sk-serial {display: flex;flex-direction: column;align-items: center;background-color: white;padding-right: 0.2em;padding-left: 0.2em;position: relative;}#sk-container-id-9 div.sk-item {position: relative;z-index: 1;}#sk-container-id-9 div.sk-parallel {display: flex;align-items: stretch;justify-content: center;background-color: white;position: relative;}#sk-container-id-9 div.sk-item::before, #sk-container-id-9 div.sk-parallel-item::before {content: \"\";position: absolute;border-left: 1px solid gray;box-sizing: border-box;top: 0;bottom: 0;left: 50%;z-index: -1;}#sk-container-id-9 div.sk-parallel-item {display: flex;flex-direction: column;z-index: 1;position: relative;background-color: white;}#sk-container-id-9 div.sk-parallel-item:first-child::after {align-self: flex-end;width: 50%;}#sk-container-id-9 div.sk-parallel-item:last-child::after {align-self: flex-start;width: 50%;}#sk-container-id-9 div.sk-parallel-item:only-child::after {width: 0;}#sk-container-id-9 div.sk-dashed-wrapped {border: 1px dashed gray;margin: 0 0.4em 0.5em 0.4em;box-sizing: border-box;padding-bottom: 0.4em;background-color: white;}#sk-container-id-9 div.sk-label label {font-family: monospace;font-weight: bold;display: inline-block;line-height: 1.2em;}#sk-container-id-9 div.sk-label-container {text-align: center;}#sk-container-id-9 div.sk-container {/* jupyter's `normalize.less` sets `[hidden] { display: none; }` but bootstrap.min.css set `[hidden] { display: none !important; }` so we also need the `!important` here to be able to override the default hidden behavior on the sphinx rendered scikit-learn.org. See: https://github.com/scikit-learn/scikit-learn/issues/21755 */display: inline-block !important;position: relative;}#sk-container-id-9 div.sk-text-repr-fallback {display: none;}</style><div id=\"sk-container-id-9\" class=\"sk-top-container\"><div class=\"sk-text-repr-fallback\"><pre>RandomForestClassifier(criterion=&#x27;entropy&#x27;)</pre><b>In a Jupyter environment, please rerun this cell to show the HTML representation or trust the notebook. <br />On GitHub, the HTML representation is unable to render, please try loading this page with nbviewer.org.</b></div><div class=\"sk-container\" hidden><div class=\"sk-item\"><div class=\"sk-estimator sk-toggleable\"><input class=\"sk-toggleable__control sk-hidden--visually\" id=\"sk-estimator-id-11\" type=\"checkbox\" checked><label for=\"sk-estimator-id-11\" class=\"sk-toggleable__label sk-toggleable__label-arrow\">RandomForestClassifier</label><div class=\"sk-toggleable__content\"><pre>RandomForestClassifier(criterion=&#x27;entropy&#x27;)</pre></div></div></div></div></div>"
            ]
          },
          "metadata": {},
          "execution_count": 56
        }
      ]
    },
    {
      "cell_type": "code",
      "source": [
        "y_pred = rf.predict(X_test_vectorized)"
      ],
      "metadata": {
        "id": "lg-SIZ5NKIyz"
      },
      "execution_count": 57,
      "outputs": []
    },
    {
      "cell_type": "code",
      "source": [
        "# Evaluate accuracy\n",
        "accuracy = accuracy_score(y_test, y_pred)\n",
        "print(f\"Accuracy: {accuracy}\")"
      ],
      "metadata": {
        "colab": {
          "base_uri": "https://localhost:8080/"
        },
        "id": "rjndcbMJKLwO",
        "outputId": "e97d20ce-b6ef-4250-985d-dfacec1914b1"
      },
      "execution_count": 58,
      "outputs": [
        {
          "output_type": "stream",
          "name": "stdout",
          "text": [
            "Accuracy: 1.0\n"
          ]
        }
      ]
    },
    {
      "cell_type": "code",
      "source": [
        "est = [('Lr',LogisticRegression(max_iter=100)),('DT',DecisionTreeClassifier()),('sv',SVC(kernel='linear'))]"
      ],
      "metadata": {
        "id": "q4yWlAujKSK2"
      },
      "execution_count": 59,
      "outputs": []
    },
    {
      "cell_type": "code",
      "source": [
        "hard_vot = VotingClassifier(estimators=est,voting='hard')"
      ],
      "metadata": {
        "id": "CZo-puMLKW4o"
      },
      "execution_count": 60,
      "outputs": []
    },
    {
      "cell_type": "code",
      "source": [
        "hard_vot.fit(X_train_vectorized, y_train)"
      ],
      "metadata": {
        "colab": {
          "base_uri": "https://localhost:8080/",
          "height": 110
        },
        "id": "pO0LlsPyKZW_",
        "outputId": "b5331bf7-014d-4aac-e84d-0f0b59838851"
      },
      "execution_count": 61,
      "outputs": [
        {
          "output_type": "execute_result",
          "data": {
            "text/plain": [
              "VotingClassifier(estimators=[('Lr', LogisticRegression()),\n",
              "                             ('DT', DecisionTreeClassifier()),\n",
              "                             ('sv', SVC(kernel='linear'))])"
            ],
            "text/html": [
              "<style>#sk-container-id-10 {color: black;background-color: white;}#sk-container-id-10 pre{padding: 0;}#sk-container-id-10 div.sk-toggleable {background-color: white;}#sk-container-id-10 label.sk-toggleable__label {cursor: pointer;display: block;width: 100%;margin-bottom: 0;padding: 0.3em;box-sizing: border-box;text-align: center;}#sk-container-id-10 label.sk-toggleable__label-arrow:before {content: \"▸\";float: left;margin-right: 0.25em;color: #696969;}#sk-container-id-10 label.sk-toggleable__label-arrow:hover:before {color: black;}#sk-container-id-10 div.sk-estimator:hover label.sk-toggleable__label-arrow:before {color: black;}#sk-container-id-10 div.sk-toggleable__content {max-height: 0;max-width: 0;overflow: hidden;text-align: left;background-color: #f0f8ff;}#sk-container-id-10 div.sk-toggleable__content pre {margin: 0.2em;color: black;border-radius: 0.25em;background-color: #f0f8ff;}#sk-container-id-10 input.sk-toggleable__control:checked~div.sk-toggleable__content {max-height: 200px;max-width: 100%;overflow: auto;}#sk-container-id-10 input.sk-toggleable__control:checked~label.sk-toggleable__label-arrow:before {content: \"▾\";}#sk-container-id-10 div.sk-estimator input.sk-toggleable__control:checked~label.sk-toggleable__label {background-color: #d4ebff;}#sk-container-id-10 div.sk-label input.sk-toggleable__control:checked~label.sk-toggleable__label {background-color: #d4ebff;}#sk-container-id-10 input.sk-hidden--visually {border: 0;clip: rect(1px 1px 1px 1px);clip: rect(1px, 1px, 1px, 1px);height: 1px;margin: -1px;overflow: hidden;padding: 0;position: absolute;width: 1px;}#sk-container-id-10 div.sk-estimator {font-family: monospace;background-color: #f0f8ff;border: 1px dotted black;border-radius: 0.25em;box-sizing: border-box;margin-bottom: 0.5em;}#sk-container-id-10 div.sk-estimator:hover {background-color: #d4ebff;}#sk-container-id-10 div.sk-parallel-item::after {content: \"\";width: 100%;border-bottom: 1px solid gray;flex-grow: 1;}#sk-container-id-10 div.sk-label:hover label.sk-toggleable__label {background-color: #d4ebff;}#sk-container-id-10 div.sk-serial::before {content: \"\";position: absolute;border-left: 1px solid gray;box-sizing: border-box;top: 0;bottom: 0;left: 50%;z-index: 0;}#sk-container-id-10 div.sk-serial {display: flex;flex-direction: column;align-items: center;background-color: white;padding-right: 0.2em;padding-left: 0.2em;position: relative;}#sk-container-id-10 div.sk-item {position: relative;z-index: 1;}#sk-container-id-10 div.sk-parallel {display: flex;align-items: stretch;justify-content: center;background-color: white;position: relative;}#sk-container-id-10 div.sk-item::before, #sk-container-id-10 div.sk-parallel-item::before {content: \"\";position: absolute;border-left: 1px solid gray;box-sizing: border-box;top: 0;bottom: 0;left: 50%;z-index: -1;}#sk-container-id-10 div.sk-parallel-item {display: flex;flex-direction: column;z-index: 1;position: relative;background-color: white;}#sk-container-id-10 div.sk-parallel-item:first-child::after {align-self: flex-end;width: 50%;}#sk-container-id-10 div.sk-parallel-item:last-child::after {align-self: flex-start;width: 50%;}#sk-container-id-10 div.sk-parallel-item:only-child::after {width: 0;}#sk-container-id-10 div.sk-dashed-wrapped {border: 1px dashed gray;margin: 0 0.4em 0.5em 0.4em;box-sizing: border-box;padding-bottom: 0.4em;background-color: white;}#sk-container-id-10 div.sk-label label {font-family: monospace;font-weight: bold;display: inline-block;line-height: 1.2em;}#sk-container-id-10 div.sk-label-container {text-align: center;}#sk-container-id-10 div.sk-container {/* jupyter's `normalize.less` sets `[hidden] { display: none; }` but bootstrap.min.css set `[hidden] { display: none !important; }` so we also need the `!important` here to be able to override the default hidden behavior on the sphinx rendered scikit-learn.org. See: https://github.com/scikit-learn/scikit-learn/issues/21755 */display: inline-block !important;position: relative;}#sk-container-id-10 div.sk-text-repr-fallback {display: none;}</style><div id=\"sk-container-id-10\" class=\"sk-top-container\"><div class=\"sk-text-repr-fallback\"><pre>VotingClassifier(estimators=[(&#x27;Lr&#x27;, LogisticRegression()),\n",
              "                             (&#x27;DT&#x27;, DecisionTreeClassifier()),\n",
              "                             (&#x27;sv&#x27;, SVC(kernel=&#x27;linear&#x27;))])</pre><b>In a Jupyter environment, please rerun this cell to show the HTML representation or trust the notebook. <br />On GitHub, the HTML representation is unable to render, please try loading this page with nbviewer.org.</b></div><div class=\"sk-container\" hidden><div class=\"sk-item sk-dashed-wrapped\"><div class=\"sk-label-container\"><div class=\"sk-label sk-toggleable\"><input class=\"sk-toggleable__control sk-hidden--visually\" id=\"sk-estimator-id-12\" type=\"checkbox\" ><label for=\"sk-estimator-id-12\" class=\"sk-toggleable__label sk-toggleable__label-arrow\">VotingClassifier</label><div class=\"sk-toggleable__content\"><pre>VotingClassifier(estimators=[(&#x27;Lr&#x27;, LogisticRegression()),\n",
              "                             (&#x27;DT&#x27;, DecisionTreeClassifier()),\n",
              "                             (&#x27;sv&#x27;, SVC(kernel=&#x27;linear&#x27;))])</pre></div></div></div><div class=\"sk-parallel\"><div class=\"sk-parallel-item\"><div class=\"sk-item\"><div class=\"sk-label-container\"><div class=\"sk-label sk-toggleable\"><label>Lr</label></div></div><div class=\"sk-serial\"><div class=\"sk-item\"><div class=\"sk-estimator sk-toggleable\"><input class=\"sk-toggleable__control sk-hidden--visually\" id=\"sk-estimator-id-13\" type=\"checkbox\" ><label for=\"sk-estimator-id-13\" class=\"sk-toggleable__label sk-toggleable__label-arrow\">LogisticRegression</label><div class=\"sk-toggleable__content\"><pre>LogisticRegression()</pre></div></div></div></div></div></div><div class=\"sk-parallel-item\"><div class=\"sk-item\"><div class=\"sk-label-container\"><div class=\"sk-label sk-toggleable\"><label>DT</label></div></div><div class=\"sk-serial\"><div class=\"sk-item\"><div class=\"sk-estimator sk-toggleable\"><input class=\"sk-toggleable__control sk-hidden--visually\" id=\"sk-estimator-id-14\" type=\"checkbox\" ><label for=\"sk-estimator-id-14\" class=\"sk-toggleable__label sk-toggleable__label-arrow\">DecisionTreeClassifier</label><div class=\"sk-toggleable__content\"><pre>DecisionTreeClassifier()</pre></div></div></div></div></div></div><div class=\"sk-parallel-item\"><div class=\"sk-item\"><div class=\"sk-label-container\"><div class=\"sk-label sk-toggleable\"><label>sv</label></div></div><div class=\"sk-serial\"><div class=\"sk-item\"><div class=\"sk-estimator sk-toggleable\"><input class=\"sk-toggleable__control sk-hidden--visually\" id=\"sk-estimator-id-15\" type=\"checkbox\" ><label for=\"sk-estimator-id-15\" class=\"sk-toggleable__label sk-toggleable__label-arrow\">SVC</label><div class=\"sk-toggleable__content\"><pre>SVC(kernel=&#x27;linear&#x27;)</pre></div></div></div></div></div></div></div></div></div></div>"
            ]
          },
          "metadata": {},
          "execution_count": 61
        }
      ]
    },
    {
      "cell_type": "code",
      "source": [
        "y_pred_h = hard_vot.predict(X_test_vectorized)"
      ],
      "metadata": {
        "id": "Qw_Q462yKggr"
      },
      "execution_count": 62,
      "outputs": []
    },
    {
      "cell_type": "code",
      "source": [
        "# Evaluate accuracy\n",
        "accuracy = accuracy_score(y_test, y_pred_h)\n",
        "print(f\"Accuracy: {accuracy}\")"
      ],
      "metadata": {
        "colab": {
          "base_uri": "https://localhost:8080/"
        },
        "id": "xTF-6TgGKl_T",
        "outputId": "d5efa2af-2e65-4132-f213-f6c33f8c0314"
      },
      "execution_count": 63,
      "outputs": [
        {
          "output_type": "stream",
          "name": "stdout",
          "text": [
            "Accuracy: 1.0\n"
          ]
        }
      ]
    },
    {
      "cell_type": "markdown",
      "metadata": {
        "id": "7bT8oZHnF-TT"
      },
      "source": [
        "**Features extraction:** Fit the extracted text data with vectorizer to get the features."
      ]
    },
    {
      "cell_type": "code",
      "metadata": {
        "id": "SjopuMddGHc9"
      },
      "source": [
        "# YOUR CODE HERE to extract the features"
      ],
      "execution_count": null,
      "outputs": []
    },
    {
      "cell_type": "markdown",
      "metadata": {
        "id": "I-Og4IX5ZYRm"
      },
      "source": [
        "**Classification:**\n",
        "\n",
        "* Identify the features and labels\n",
        "* Use train_test_split for splitting the train and test data\n",
        "* Fit your model on the train set using fit() and perform prediction on the test set using predict()\n",
        "* Get the accuracy of the model\n",
        "\n",
        "        Expected Accuracy above 90%\n"
      ]
    },
    {
      "cell_type": "code",
      "metadata": {
        "id": "MrGHpAqgMp07"
      },
      "source": [
        "# YOUR CODE HERE for classifying the intent"
      ],
      "execution_count": null,
      "outputs": []
    },
    {
      "cell_type": "markdown",
      "metadata": {
        "id": "UMddI6OZTSdL"
      },
      "source": [
        "Predict the user_input using the trained model\n",
        "\n",
        "**Note:** intentPredict() function call is specified in the Conversation Flow\n",
        "- vectorize the given user_input\n",
        "- reshape the vectorized array using `reshape(1,-1)` as the user_input is only a single utterance\n",
        "- predict the label on the vectorized array\n",
        "- return the respective class (intent_name)"
      ]
    },
    {
      "cell_type": "code",
      "source": [
        "def intentPredict(user_input):\n",
        "    # Vectorize the user input\n",
        "    user_input_vectorized = vectorizer.transform([user_input])\n",
        "\n",
        "    # Reshape the vectorized array\n",
        "    user_input_vectorized_reshaped = user_input_vectorized.reshape(1, -1)\n",
        "\n",
        "    # Predict the label on the vectorized array\n",
        "    prediction = lr.predict(user_input_vectorized_reshaped)\n",
        "\n",
        "    # Return the respective class (intent_name)\n",
        "    return prediction[0]"
      ],
      "metadata": {
        "id": "N2jQZTXAK6P5"
      },
      "execution_count": 66,
      "outputs": []
    },
    {
      "cell_type": "code",
      "source": [
        "user_input_example = \"open my zodiac sign\"\n",
        "predicted_intent = intentPredict(user_input_example)\n",
        "print(f\"Predicted Intent: {predicted_intent}\")"
      ],
      "metadata": {
        "colab": {
          "base_uri": "https://localhost:8080/"
        },
        "id": "J0Yfw2a2K-jY",
        "outputId": "39e6fda6-d112-4a63-94c2-6bf1fd13a157"
      },
      "execution_count": 68,
      "outputs": [
        {
          "output_type": "stream",
          "name": "stdout",
          "text": [
            "Predicted Intent: get_Zodiac_Sign\n"
          ]
        }
      ]
    },
    {
      "cell_type": "code",
      "metadata": {
        "id": "oaGk1MLg5E-k"
      },
      "source": [
        "# Take the user input as test data and predict using the model.\n",
        "\n",
        "def intentPredict(user_input):  # Do not change the function name\n",
        "\n",
        "    # YOUR CODE HERE for the prediction\n",
        "\n",
        "    return predicted_intent"
      ],
      "execution_count": null,
      "outputs": []
    },
    {
      "cell_type": "markdown",
      "metadata": {
        "id": "1EuAOMEtbB35"
      },
      "source": [
        "### Task4 (4Marks):\n",
        "\n",
        "Compare the attributes with the CSV file and get the final selection of that particular intent.\n",
        "\n",
        "  * Action function for the zodiac sign is already given. Similarly create action function for your intents and give the function name as mentioned in the params.cfg file.\n",
        "  * Use session object to take user inputs. (ex: `session.attributes`)\n",
        "\n",
        "Below are the 2 action functions to be performed:\n",
        "  1. Zodiac Sign Action\n",
        "  2. Your allocated Intent Action"
      ]
    },
    {
      "cell_type": "markdown",
      "metadata": {
        "id": "ySQgq901aaCH"
      },
      "source": [
        "1. Below Action function is given for\n",
        "Zodiac_Sign intent"
      ]
    },
    {
      "cell_type": "code",
      "metadata": {
        "id": "RAucdXx3w0rt"
      },
      "source": [
        "# Note: Zodiac_sign.csv records are taken from the internet; however it is open to adding multiple records.\n",
        "\n",
        "# Performs action for zodiac sign with csv file as source\n",
        "def zodiacSign_Action():\n",
        "    # global session\n",
        "    attr = session.attributes\n",
        "    year = int(attr['year'])\n",
        "    month = attr['month'] # month is a string, convert it to a month index\n",
        "    day = int(attr['day'])\n",
        "    df = pd.read_csv(path_csv_zodiac)\n",
        "    zodiac = \"\"\n",
        "\n",
        "    try:\n",
        "        month = int(datetime.datetime.strptime(month,'%b').strftime('%m'))\n",
        "    except:\n",
        "        month = int(datetime.datetime.strptime(month,'%B').strftime('%m'))\n",
        "\n",
        "    try:\n",
        "        usr_dob = (month,day)\n",
        "        datetime.datetime(year, month, day)\n",
        "        for index, row in df.iterrows():\n",
        "          if filter(row['Start']) <= usr_dob <= filter(row['End']):\n",
        "            zodiac = row['Zodiac']\n",
        "        return \"Your Zodiac sign is \" + zodiac\n",
        "    except ValueError:\n",
        "        return \"This is not a valid date\"\n",
        "\n",
        "def filter(X):\n",
        "    date = X.split()\n",
        "    month = int(datetime.datetime.strptime(date[0],'%B').strftime('%m'))\n",
        "    day = int(datetime.datetime.strptime(date[1],'%d').strftime('%d'))\n",
        "    return (month,day)"
      ],
      "execution_count": 69,
      "outputs": []
    },
    {
      "cell_type": "code",
      "source": [
        "def get_books_list(df):\n",
        "  books = []\n",
        "  for _, row in df.iterrows():\n",
        "    book = {\n",
        "        'Title': row['Title'],\n",
        "        'Author': row['Author'].lower(),\n",
        "        'Language': row['Language'].lower(),\n",
        "        'Genre': row['Genre'].lower()\n",
        "      }\n",
        "    books.append(book)\n",
        "  return books"
      ],
      "metadata": {
        "id": "UD53BNLXMS3i"
      },
      "execution_count": 72,
      "outputs": []
    },
    {
      "cell_type": "code",
      "source": [
        "def recommend_book(preferences, books):\n",
        "  filtered_books = [book for book in books if all(book[key] == value for key, value in preferences.items())]\n",
        "\n",
        "  if filtered_books:\n",
        "    return random.choice(filtered_books)\n",
        "  else:\n",
        "    return \"No matching books found.\""
      ],
      "metadata": {
        "id": "eDv9dNYlMYnp"
      },
      "execution_count": 73,
      "outputs": []
    },
    {
      "cell_type": "markdown",
      "metadata": {
        "id": "ZmGzfjZxYeVl"
      },
      "source": [
        "2. Define Action function for your allocated Intent"
      ]
    },
    {
      "cell_type": "code",
      "metadata": {
        "id": "-i9fowgOY-Bb"
      },
      "source": [
        "# YOUR CODE HERE: Define a function to perform action using CSV file\n",
        "\n",
        "# Note: books.csv records are taken from the internet; however it is open to adding multiple records.\n",
        "\n",
        "# Performs action for suggest book with csv file as source\n",
        "def suggestBook_Action():\n",
        "    # global session\n",
        "    attr = session.attributes\n",
        "\n",
        "    if attr[\"author\"]:\n",
        "      author = attr[\"author\"].lower()\n",
        "    else:\n",
        "      author = None\n",
        "\n",
        "    if attr[\"language\"]:\n",
        "      language = attr[\"language\"].lower()\n",
        "    else:\n",
        "      language = None\n",
        "\n",
        "    if attr[\"genre\"]:\n",
        "      genre = attr[\"genre\"].lower()\n",
        "    else:\n",
        "      genre = None\n",
        "\n",
        "    user_preferences = {}\n",
        "    if author and author != 'author':\n",
        "      user_preferences[\"Author\"] = author\n",
        "    if language and language != 'language':\n",
        "      user_preferences[\"Language\"] = language\n",
        "    if genre and genre != 'genre':\n",
        "      user_preferences[\"Genre\"] = genre\n",
        "\n",
        "    df = pd.read_csv(path_csv)\n",
        "    books_list = get_books_list(df)\n",
        "    recommended_book = recommend_book(user_preferences,books_list)\n",
        "\n",
        "    try:\n",
        "      if isinstance(recommended_book, dict):\n",
        "        author_name = recommended_book['Author'].title()\n",
        "        return f\"Recommended Book: {recommended_book['Title']} by {author_name}\"\n",
        "      else:\n",
        "        return \"author is  {author}, language is {language}, genre is {genre}, No matching books found.\".format(author=author,language=language,genre=genre)\n",
        "    except ValueError:\n",
        "        return \"This is not a valid date\""
      ],
      "execution_count": 74,
      "outputs": []
    },
    {
      "cell_type": "markdown",
      "metadata": {
        "id": "iJHrDux6Ho-K"
      },
      "source": [
        "### Task5 (3Marks)\n",
        "\n",
        "Run and test the Python chatbot for both the intents with the following:\n",
        "  - Python Chatbot should identify the user requirement.\n",
        "  - Gather the data from user input and get the relevant output.\n",
        "  - It should prompt the user with different prompts if the required input is not fulfilled.\n",
        "  - It should shift between the intents and maintain the dialogue flow."
      ]
    },
    {
      "cell_type": "markdown",
      "metadata": {
        "id": "-nzznhcEm-vO"
      },
      "source": [
        "Chatbot configuration class"
      ]
    },
    {
      "cell_type": "code",
      "metadata": {
        "id": "4S4rXiz9CQzo"
      },
      "source": [
        "class BOT_config():\n",
        "    def __init__(self, session):\n",
        "        self.welcome='BOT: Hi! Welcome to Talentsprint Hackathon, How may i assist you?'\n",
        "        self.exits=[\"finish\",\"exit\",\"end\",\"quit\",\"stop\",\"close\", \"Bye\"]\n",
        "        if session.context.name == 'IntentComplete':\n",
        "            session.attributes = {}\n",
        "            session.context = FirstGreeting()\n",
        "            session.current_intent = None"
      ],
      "execution_count": 75,
      "outputs": []
    },
    {
      "cell_type": "markdown",
      "metadata": {
        "id": "eMHpVbnWnDo_"
      },
      "source": [
        "#### Conversational Chatbot\n",
        "\n",
        "Interact with bot by giving any utterance\n",
        "\n",
        "Ex:  `find zodiac sign`"
      ]
    },
    {
      "cell_type": "code",
      "metadata": {
        "id": "ycL4LskDEULN",
        "colab": {
          "base_uri": "https://localhost:8080/"
        },
        "outputId": "16bf7229-3482-4fbb-908d-8d67f32247c9"
      },
      "source": [
        "session = Session()\n",
        "print(BOT_config(session).welcome)\n",
        "while (True):\n",
        "    inp = input('User: ')\n",
        "    if inp in BOT_config(session).exits:\n",
        "        break\n",
        "    prompt = session.reply(inp)\n",
        "    print ('BOT:', prompt)"
      ],
      "execution_count": 76,
      "outputs": [
        {
          "name": "stdout",
          "output_type": "stream",
          "text": [
            "BOT: Hi! Welcome to Talentsprint Hackathon, How may i assist you?\n",
            "User: suggest book based on Harper Lee English Fiction\n",
            "BOT: ('Recommended Book: To Kill a Mockingbird by Harper Lee', {'language': 'English', 'genre': 'Fiction', 'author': 'Harper Lee'})\n",
            "User: I was born on 10 January 1996 what is my zidiac sign\n",
            "BOT: ('Your Zodiac sign is Capricorn', {'month': 'January', 'year': '1996', 'day': '10'})\n",
            "User: sugget book by George Orwell English Dystopian\n",
            "BOT: ('Recommended Book: 1984 by George Orwell', {'language': 'English', 'genre': 'Dystopian', 'author': 'George Orwell'})\n",
            "User: end\n"
          ]
        }
      ]
    },
    {
      "cell_type": "code",
      "source": [
        "from google.colab import drive\n",
        "drive.mount('/content/drive')"
      ],
      "metadata": {
        "colab": {
          "base_uri": "https://localhost:8080/"
        },
        "id": "m2QrGFeGO8qH",
        "outputId": "9f53c7bf-bf84-4580-b965-3080e40fcb5f"
      },
      "execution_count": 77,
      "outputs": [
        {
          "output_type": "stream",
          "name": "stdout",
          "text": [
            "Mounted at /content/drive\n"
          ]
        }
      ]
    }
  ]
}